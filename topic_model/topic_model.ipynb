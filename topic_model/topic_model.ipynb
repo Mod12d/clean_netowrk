{
 "cells": [
  {
   "cell_type": "code",
   "execution_count": 1,
   "id": "ee4fa979",
   "metadata": {},
   "outputs": [],
   "source": [
    "import pandas as pd \n"
   ]
  },
  {
   "cell_type": "code",
   "execution_count": 2,
   "id": "0d4f66a7",
   "metadata": {},
   "outputs": [
    {
     "data": {
      "text/plain": [
       "0       CEO of Bluezone inc. / 東大航空宇宙D2 / 未踏AD (2021) ...\n",
       "1       マーケ部長やってます/ステキって言います/海が好き/沖縄好き/ダイバー兼サーファー兼webマ...\n",
       "2                                     元天文 元DHK 元ⅡP4 元11クラ\n",
       "3                                                     NaN\n",
       "4       エンジニア歴9年。2児の父\\nRails/React/Vue/TypeScript/gola...\n",
       "                              ...                        \n",
       "1184    創英あるあるを思いついたらDMを気軽にください。 載せさせていただきます。 “あるある”と思...\n",
       "1185                                             人生に、野遊びを\n",
       "1186    青学 / LAMDAC2016 / 学生団体 参考書宅救便( @sankousho_SKU ...\n",
       "1187                                              ロンゾの面汚し\n",
       "1188                                   どこかの通信会社でエンジニアしてます\n",
       "Name: description, Length: 1189, dtype: object"
      ]
     },
     "execution_count": 2,
     "metadata": {},
     "output_type": "execute_result"
    }
   ],
   "source": [
    "df = pd.read_csv(\"output_follower.csv\")\n",
    "df[\"description\"]"
   ]
  },
  {
   "cell_type": "code",
   "execution_count": 3,
   "id": "f8fff681",
   "metadata": {},
   "outputs": [
    {
     "name": "stdout",
     "output_type": "stream",
     "text": [
      "Requirement already satisfied: seaborn in /Users/poclab_m1_air_2022/.pyenv/versions/3.8.13/lib/python3.8/site-packages (0.12.1)\n",
      "Requirement already satisfied: matplotlib!=3.6.1,>=3.1 in /Users/poclab_m1_air_2022/.pyenv/versions/3.8.13/lib/python3.8/site-packages (from seaborn) (3.6.0)\n",
      "Requirement already satisfied: pandas>=0.25 in /Users/poclab_m1_air_2022/.pyenv/versions/3.8.13/lib/python3.8/site-packages (from seaborn) (1.5.0)\n",
      "Requirement already satisfied: numpy>=1.17 in /Users/poclab_m1_air_2022/.pyenv/versions/3.8.13/lib/python3.8/site-packages (from seaborn) (1.23.3)\n",
      "Requirement already satisfied: kiwisolver>=1.0.1 in /Users/poclab_m1_air_2022/.pyenv/versions/3.8.13/lib/python3.8/site-packages (from matplotlib!=3.6.1,>=3.1->seaborn) (1.4.4)\n",
      "Requirement already satisfied: fonttools>=4.22.0 in /Users/poclab_m1_air_2022/.pyenv/versions/3.8.13/lib/python3.8/site-packages (from matplotlib!=3.6.1,>=3.1->seaborn) (4.38.0)\n",
      "Requirement already satisfied: pillow>=6.2.0 in /Users/poclab_m1_air_2022/.pyenv/versions/3.8.13/lib/python3.8/site-packages (from matplotlib!=3.6.1,>=3.1->seaborn) (9.2.0)\n",
      "Requirement already satisfied: python-dateutil>=2.7 in /Users/poclab_m1_air_2022/.pyenv/versions/3.8.13/lib/python3.8/site-packages (from matplotlib!=3.6.1,>=3.1->seaborn) (2.8.2)\n",
      "Requirement already satisfied: cycler>=0.10 in /Users/poclab_m1_air_2022/.pyenv/versions/3.8.13/lib/python3.8/site-packages (from matplotlib!=3.6.1,>=3.1->seaborn) (0.11.0)\n",
      "Requirement already satisfied: contourpy>=1.0.1 in /Users/poclab_m1_air_2022/.pyenv/versions/3.8.13/lib/python3.8/site-packages (from matplotlib!=3.6.1,>=3.1->seaborn) (1.0.5)\n",
      "Requirement already satisfied: packaging>=20.0 in /Users/poclab_m1_air_2022/.pyenv/versions/3.8.13/lib/python3.8/site-packages (from matplotlib!=3.6.1,>=3.1->seaborn) (21.3)\n",
      "Requirement already satisfied: pyparsing>=2.2.1 in /Users/poclab_m1_air_2022/.pyenv/versions/3.8.13/lib/python3.8/site-packages (from matplotlib!=3.6.1,>=3.1->seaborn) (3.0.9)\n",
      "Requirement already satisfied: pytz>=2020.1 in /Users/poclab_m1_air_2022/.pyenv/versions/3.8.13/lib/python3.8/site-packages (from pandas>=0.25->seaborn) (2022.4)\n",
      "Requirement already satisfied: six>=1.5 in /Users/poclab_m1_air_2022/.pyenv/versions/3.8.13/lib/python3.8/site-packages (from python-dateutil>=2.7->matplotlib!=3.6.1,>=3.1->seaborn) (1.16.0)\n",
      "\u001b[33mWARNING: You are using pip version 22.0.4; however, version 22.3.1 is available.\n",
      "You should consider upgrading via the '/Users/poclab_m1_air_2022/.pyenv/versions/3.8.13/bin/python3.8 -m pip install --upgrade pip' command.\u001b[0m\u001b[33m\n",
      "\u001b[0m"
     ]
    }
   ],
   "source": [
    "!pip install seaborn"
   ]
  },
  {
   "cell_type": "code",
   "execution_count": 4,
   "id": "c30e6508",
   "metadata": {},
   "outputs": [
    {
     "name": "stdout",
     "output_type": "stream",
     "text": [
      "Requirement already satisfied: matplotlib in /Users/poclab_m1_air_2022/.pyenv/versions/3.8.13/lib/python3.8/site-packages (3.6.0)\n",
      "Requirement already satisfied: python-dateutil>=2.7 in /Users/poclab_m1_air_2022/.pyenv/versions/3.8.13/lib/python3.8/site-packages (from matplotlib) (2.8.2)\n",
      "Requirement already satisfied: numpy>=1.19 in /Users/poclab_m1_air_2022/.pyenv/versions/3.8.13/lib/python3.8/site-packages (from matplotlib) (1.23.3)\n",
      "Requirement already satisfied: kiwisolver>=1.0.1 in /Users/poclab_m1_air_2022/.pyenv/versions/3.8.13/lib/python3.8/site-packages (from matplotlib) (1.4.4)\n",
      "Requirement already satisfied: packaging>=20.0 in /Users/poclab_m1_air_2022/.pyenv/versions/3.8.13/lib/python3.8/site-packages (from matplotlib) (21.3)\n",
      "Requirement already satisfied: pillow>=6.2.0 in /Users/poclab_m1_air_2022/.pyenv/versions/3.8.13/lib/python3.8/site-packages (from matplotlib) (9.2.0)\n",
      "Requirement already satisfied: cycler>=0.10 in /Users/poclab_m1_air_2022/.pyenv/versions/3.8.13/lib/python3.8/site-packages (from matplotlib) (0.11.0)\n",
      "Requirement already satisfied: fonttools>=4.22.0 in /Users/poclab_m1_air_2022/.pyenv/versions/3.8.13/lib/python3.8/site-packages (from matplotlib) (4.38.0)\n",
      "Requirement already satisfied: pyparsing>=2.2.1 in /Users/poclab_m1_air_2022/.pyenv/versions/3.8.13/lib/python3.8/site-packages (from matplotlib) (3.0.9)\n",
      "Requirement already satisfied: contourpy>=1.0.1 in /Users/poclab_m1_air_2022/.pyenv/versions/3.8.13/lib/python3.8/site-packages (from matplotlib) (1.0.5)\n",
      "Requirement already satisfied: six>=1.5 in /Users/poclab_m1_air_2022/.pyenv/versions/3.8.13/lib/python3.8/site-packages (from python-dateutil>=2.7->matplotlib) (1.16.0)\n",
      "\u001b[33mWARNING: You are using pip version 22.0.4; however, version 22.3.1 is available.\n",
      "You should consider upgrading via the '/Users/poclab_m1_air_2022/.pyenv/versions/3.8.13/bin/python3.8 -m pip install --upgrade pip' command.\u001b[0m\u001b[33m\n",
      "\u001b[0m"
     ]
    }
   ],
   "source": [
    "!pip install matplotlib"
   ]
  },
  {
   "cell_type": "code",
   "execution_count": 5,
   "id": "042e2c81",
   "metadata": {},
   "outputs": [
    {
     "name": "stdout",
     "output_type": "stream",
     "text": [
      "Requirement already satisfied: gensim in /Users/poclab_m1_air_2022/.pyenv/versions/3.8.13/lib/python3.8/site-packages (4.2.0)\n",
      "Requirement already satisfied: numpy>=1.17.0 in /Users/poclab_m1_air_2022/.pyenv/versions/3.8.13/lib/python3.8/site-packages (from gensim) (1.23.3)\n",
      "Requirement already satisfied: scipy>=0.18.1 in /Users/poclab_m1_air_2022/.pyenv/versions/3.8.13/lib/python3.8/site-packages (from gensim) (1.9.3)\n",
      "Requirement already satisfied: smart_open>=1.8.1 in /Users/poclab_m1_air_2022/.pyenv/versions/3.8.13/lib/python3.8/site-packages (from gensim) (6.2.0)\n",
      "\u001b[33mWARNING: You are using pip version 22.0.4; however, version 22.3.1 is available.\n",
      "You should consider upgrading via the '/Users/poclab_m1_air_2022/.pyenv/versions/3.8.13/bin/python3.8 -m pip install --upgrade pip' command.\u001b[0m\u001b[33m\n",
      "\u001b[0m"
     ]
    }
   ],
   "source": [
    "!pip install gensim"
   ]
  },
  {
   "cell_type": "code",
   "execution_count": 6,
   "id": "c6954da0",
   "metadata": {},
   "outputs": [
    {
     "name": "stdout",
     "output_type": "stream",
     "text": [
      "Requirement already satisfied: janome in /Users/poclab_m1_air_2022/.pyenv/versions/3.8.13/lib/python3.8/site-packages (0.4.2)\n",
      "\u001b[33mWARNING: You are using pip version 22.0.4; however, version 22.3.1 is available.\n",
      "You should consider upgrading via the '/Users/poclab_m1_air_2022/.pyenv/versions/3.8.13/bin/python3.8 -m pip install --upgrade pip' command.\u001b[0m\u001b[33m\n",
      "\u001b[0m"
     ]
    }
   ],
   "source": [
    "!pip install janome"
   ]
  },
  {
   "cell_type": "code",
   "execution_count": 7,
   "id": "f033ebfe",
   "metadata": {},
   "outputs": [],
   "source": [
    "from janome.tokenizer import Tokenizer\n",
    "\n",
    "def get_nouns(text):\n",
    "    t = Tokenizer()\n",
    "    terms = [token.surface for token in t.tokenize(text) if token.part_of_speech.startswith('名詞')]\n",
    "    return terms"
   ]
  },
  {
   "cell_type": "code",
   "execution_count": 8,
   "id": "93877606",
   "metadata": {},
   "outputs": [
    {
     "name": "stdout",
     "output_type": "stream",
     "text": [
      "['CEO', 'of', 'Bluezone', 'inc', '.', '/', '東大', '航空', '宇宙', 'D', '2', '/', '未踏', 'AD', '(', '2021', ')', '/', '関東', 'インカレ', '2', '部', '200', 'm', '優勝', '/', 'Django', ',', 'React', ',', 'AWS', '/', '姿勢', '推定', 'AI', 'かけっこ', '陸上', '指導', 'アプリ']\n",
      "['マーケ', '部長', '/', 'ステキ', '/', '海', '好き', '/', '沖縄', '好き', '/', 'ダイバー', '兼', 'サー', 'ファー', '兼', 'web', 'マーケター', '/', 'ゼロ', 'イチ', '人', '/', '娘', '3', '人', '/', '努力', '上', '花']\n",
      "['天文', 'DHK', 'Ⅱ', 'P', '4', '11', 'クラ']\n"
     ]
    }
   ],
   "source": [
    "for text in df[\"description\"].head(3):\n",
    "    terms = get_nouns(text)\n",
    "    print(terms)"
   ]
  },
  {
   "cell_type": "code",
   "execution_count": 9,
   "id": "d447f3cb",
   "metadata": {},
   "outputs": [],
   "source": [
    "df2 = df.dropna()"
   ]
  },
  {
   "cell_type": "code",
   "execution_count": 10,
   "id": "be13920a",
   "metadata": {},
   "outputs": [
    {
     "name": "stderr",
     "output_type": "stream",
     "text": [
      "/var/folders/nd/ktp8jxbn7f92rlmrhv10gw7w0000gn/T/ipykernel_74480/2257806229.py:1: SettingWithCopyWarning: \n",
      "A value is trying to be set on a copy of a slice from a DataFrame.\n",
      "Try using .loc[row_indexer,col_indexer] = value instead\n",
      "\n",
      "See the caveats in the documentation: https://pandas.pydata.org/pandas-docs/stable/user_guide/indexing.html#returning-a-view-versus-a-copy\n",
      "  df2[\"text\"] = df2[\"description\"].map(get_nouns)\n"
     ]
    }
   ],
   "source": [
    "df2[\"text\"] = df2[\"description\"].map(get_nouns)"
   ]
  },
  {
   "cell_type": "code",
   "execution_count": 11,
   "id": "f78e2752",
   "metadata": {},
   "outputs": [
    {
     "data": {
      "text/html": [
       "<div>\n",
       "<style scoped>\n",
       "    .dataframe tbody tr th:only-of-type {\n",
       "        vertical-align: middle;\n",
       "    }\n",
       "\n",
       "    .dataframe tbody tr th {\n",
       "        vertical-align: top;\n",
       "    }\n",
       "\n",
       "    .dataframe thead th {\n",
       "        text-align: right;\n",
       "    }\n",
       "</style>\n",
       "<table border=\"1\" class=\"dataframe\">\n",
       "  <thead>\n",
       "    <tr style=\"text-align: right;\">\n",
       "      <th></th>\n",
       "      <th>Unnamed: 0</th>\n",
       "      <th>id</th>\n",
       "      <th>Name</th>\n",
       "      <th>Screen_Name</th>\n",
       "      <th>description</th>\n",
       "      <th>prifile_image</th>\n",
       "      <th>follower_id</th>\n",
       "      <th>text</th>\n",
       "    </tr>\n",
       "  </thead>\n",
       "  <tbody>\n",
       "    <tr>\n",
       "      <th>0</th>\n",
       "      <td>0</td>\n",
       "      <td>1405886849441140739</td>\n",
       "      <td>藤田旭洋（Akihiro Fujita）</td>\n",
       "      <td>afujitabz</td>\n",
       "      <td>CEO of Bluezone inc. / 東大航空宇宙D2 / 未踏AD (2021) ...</td>\n",
       "      <td>https://pbs.twimg.com/profile_images/151408653...</td>\n",
       "      <td>[1568798216069746689, 780896517859057665, 1052...</td>\n",
       "      <td>[CEO, of, Bluezone, inc, ., /, 東大, 航空, 宇宙, D, ...</td>\n",
       "    </tr>\n",
       "    <tr>\n",
       "      <th>1</th>\n",
       "      <td>1</td>\n",
       "      <td>1314113770285793280</td>\n",
       "      <td>いわもっち🌺マーケ部長</td>\n",
       "      <td>mocchi_iwa</td>\n",
       "      <td>マーケ部長やってます/ステキって言います/海が好き/沖縄好き/ダイバー兼サーファー兼webマ...</td>\n",
       "      <td>https://pbs.twimg.com/profile_images/156243996...</td>\n",
       "      <td>[1567132777237123076, 1470039473282961411, 156...</td>\n",
       "      <td>[マーケ, 部長, /, ステキ, /, 海, 好き, /, 沖縄, 好き, /, ダイバー...</td>\n",
       "    </tr>\n",
       "    <tr>\n",
       "      <th>2</th>\n",
       "      <td>2</td>\n",
       "      <td>991303435617120257</td>\n",
       "      <td>sin・cos・カモノハシ</td>\n",
       "      <td>takadanobabauec</td>\n",
       "      <td>元天文 元DHK 元ⅡP4 元11クラ</td>\n",
       "      <td>https://pbs.twimg.com/profile_images/143929848...</td>\n",
       "      <td>[]</td>\n",
       "      <td>[天文, DHK, Ⅱ, P, 4, 11, クラ]</td>\n",
       "    </tr>\n",
       "    <tr>\n",
       "      <th>4</th>\n",
       "      <td>4</td>\n",
       "      <td>1190436526175350784</td>\n",
       "      <td>ヨノ　フリーランスエンジニア</td>\n",
       "      <td>yono_free</td>\n",
       "      <td>エンジニア歴9年。2児の父\\nRails/React/Vue/TypeScript/gola...</td>\n",
       "      <td>https://pbs.twimg.com/profile_images/119043679...</td>\n",
       "      <td>[38144769, 1470629774930616322, 15641015025702...</td>\n",
       "      <td>[エンジニア, 歴, 9, 年, 2, 児, 父, Rails, /, React, /, ...</td>\n",
       "    </tr>\n",
       "    <tr>\n",
       "      <th>5</th>\n",
       "      <td>5</td>\n",
       "      <td>1405736033136779269</td>\n",
       "      <td>凪</td>\n",
       "      <td>lol_st_02</td>\n",
       "      <td>特に紹介することはないです。</td>\n",
       "      <td>https://pbs.twimg.com/profile_images/152913711...</td>\n",
       "      <td>[2874995478, 1389955378473947139, 150843713893...</td>\n",
       "      <td>[紹介, こと]</td>\n",
       "    </tr>\n",
       "    <tr>\n",
       "      <th>...</th>\n",
       "      <td>...</td>\n",
       "      <td>...</td>\n",
       "      <td>...</td>\n",
       "      <td>...</td>\n",
       "      <td>...</td>\n",
       "      <td>...</td>\n",
       "      <td>...</td>\n",
       "      <td>...</td>\n",
       "    </tr>\n",
       "    <tr>\n",
       "      <th>1184</th>\n",
       "      <td>1184</td>\n",
       "      <td>735982190</td>\n",
       "      <td>創英あるあるbot</td>\n",
       "      <td>soeiaru2</td>\n",
       "      <td>創英あるあるを思いついたらDMを気軽にください。 載せさせていただきます。 “あるある”と思...</td>\n",
       "      <td>https://pbs.twimg.com/profile_images/246550589...</td>\n",
       "      <td>[1537394949356142592, 1499108026615476224, 142...</td>\n",
       "      <td>[創, 英, DM, 気軽, RT, 創, 英, 輪]</td>\n",
       "    </tr>\n",
       "    <tr>\n",
       "      <th>1185</th>\n",
       "      <td>1185</td>\n",
       "      <td>387729371</td>\n",
       "      <td>わっち</td>\n",
       "      <td>gracemeria</td>\n",
       "      <td>人生に、野遊びを</td>\n",
       "      <td>https://pbs.twimg.com/profile_images/326233015...</td>\n",
       "      <td>[]</td>\n",
       "      <td>[人生, 野遊び]</td>\n",
       "    </tr>\n",
       "    <tr>\n",
       "      <th>1186</th>\n",
       "      <td>1186</td>\n",
       "      <td>553560130</td>\n",
       "      <td>Heima Ueda</td>\n",
       "      <td>van_der_heima</td>\n",
       "      <td>青学 / LAMDAC2016 / 学生団体 参考書宅救便( @sankousho_SKU ...</td>\n",
       "      <td>https://pbs.twimg.com/profile_images/138833666...</td>\n",
       "      <td>[]</td>\n",
       "      <td>[青, 学, /, LAMDAC, 2016, /, 学生, 団体, 参考, 書, 宅, 救...</td>\n",
       "    </tr>\n",
       "    <tr>\n",
       "      <th>1187</th>\n",
       "      <td>1187</td>\n",
       "      <td>311452958</td>\n",
       "      <td>角なし</td>\n",
       "      <td>EllenGrigia</td>\n",
       "      <td>ロンゾの面汚し</td>\n",
       "      <td>https://pbs.twimg.com/profile_images/599558314...</td>\n",
       "      <td>[2374395042, 2939330144, 2582123257, 174270015...</td>\n",
       "      <td>[ロンゾ, 面汚し]</td>\n",
       "    </tr>\n",
       "    <tr>\n",
       "      <th>1188</th>\n",
       "      <td>1188</td>\n",
       "      <td>311893704</td>\n",
       "      <td>りょう</td>\n",
       "      <td>ryo_b_k</td>\n",
       "      <td>どこかの通信会社でエンジニアしてます</td>\n",
       "      <td>https://pbs.twimg.com/profile_images/740407476...</td>\n",
       "      <td>[]</td>\n",
       "      <td>[どこ, 通信, 会社, エンジニア]</td>\n",
       "    </tr>\n",
       "  </tbody>\n",
       "</table>\n",
       "<p>1141 rows × 8 columns</p>\n",
       "</div>"
      ],
      "text/plain": [
       "      Unnamed: 0                   id                  Name      Screen_Name  \\\n",
       "0              0  1405886849441140739  藤田旭洋（Akihiro Fujita）        afujitabz   \n",
       "1              1  1314113770285793280           いわもっち🌺マーケ部長       mocchi_iwa   \n",
       "2              2   991303435617120257         sin・cos・カモノハシ  takadanobabauec   \n",
       "4              4  1190436526175350784        ヨノ　フリーランスエンジニア        yono_free   \n",
       "5              5  1405736033136779269                     凪        lol_st_02   \n",
       "...          ...                  ...                   ...              ...   \n",
       "1184        1184            735982190             創英あるあるbot         soeiaru2   \n",
       "1185        1185            387729371                   わっち       gracemeria   \n",
       "1186        1186            553560130            Heima Ueda    van_der_heima   \n",
       "1187        1187            311452958                   角なし      EllenGrigia   \n",
       "1188        1188            311893704                   りょう          ryo_b_k   \n",
       "\n",
       "                                            description  \\\n",
       "0     CEO of Bluezone inc. / 東大航空宇宙D2 / 未踏AD (2021) ...   \n",
       "1     マーケ部長やってます/ステキって言います/海が好き/沖縄好き/ダイバー兼サーファー兼webマ...   \n",
       "2                                   元天文 元DHK 元ⅡP4 元11クラ   \n",
       "4     エンジニア歴9年。2児の父\\nRails/React/Vue/TypeScript/gola...   \n",
       "5                                        特に紹介することはないです。   \n",
       "...                                                 ...   \n",
       "1184  創英あるあるを思いついたらDMを気軽にください。 載せさせていただきます。 “あるある”と思...   \n",
       "1185                                           人生に、野遊びを   \n",
       "1186  青学 / LAMDAC2016 / 学生団体 参考書宅救便( @sankousho_SKU ...   \n",
       "1187                                            ロンゾの面汚し   \n",
       "1188                                 どこかの通信会社でエンジニアしてます   \n",
       "\n",
       "                                          prifile_image  \\\n",
       "0     https://pbs.twimg.com/profile_images/151408653...   \n",
       "1     https://pbs.twimg.com/profile_images/156243996...   \n",
       "2     https://pbs.twimg.com/profile_images/143929848...   \n",
       "4     https://pbs.twimg.com/profile_images/119043679...   \n",
       "5     https://pbs.twimg.com/profile_images/152913711...   \n",
       "...                                                 ...   \n",
       "1184  https://pbs.twimg.com/profile_images/246550589...   \n",
       "1185  https://pbs.twimg.com/profile_images/326233015...   \n",
       "1186  https://pbs.twimg.com/profile_images/138833666...   \n",
       "1187  https://pbs.twimg.com/profile_images/599558314...   \n",
       "1188  https://pbs.twimg.com/profile_images/740407476...   \n",
       "\n",
       "                                            follower_id  \\\n",
       "0     [1568798216069746689, 780896517859057665, 1052...   \n",
       "1     [1567132777237123076, 1470039473282961411, 156...   \n",
       "2                                                    []   \n",
       "4     [38144769, 1470629774930616322, 15641015025702...   \n",
       "5     [2874995478, 1389955378473947139, 150843713893...   \n",
       "...                                                 ...   \n",
       "1184  [1537394949356142592, 1499108026615476224, 142...   \n",
       "1185                                                 []   \n",
       "1186                                                 []   \n",
       "1187  [2374395042, 2939330144, 2582123257, 174270015...   \n",
       "1188                                                 []   \n",
       "\n",
       "                                                   text  \n",
       "0     [CEO, of, Bluezone, inc, ., /, 東大, 航空, 宇宙, D, ...  \n",
       "1     [マーケ, 部長, /, ステキ, /, 海, 好き, /, 沖縄, 好き, /, ダイバー...  \n",
       "2                            [天文, DHK, Ⅱ, P, 4, 11, クラ]  \n",
       "4     [エンジニア, 歴, 9, 年, 2, 児, 父, Rails, /, React, /, ...  \n",
       "5                                              [紹介, こと]  \n",
       "...                                                 ...  \n",
       "1184                        [創, 英, DM, 気軽, RT, 創, 英, 輪]  \n",
       "1185                                          [人生, 野遊び]  \n",
       "1186  [青, 学, /, LAMDAC, 2016, /, 学生, 団体, 参考, 書, 宅, 救...  \n",
       "1187                                         [ロンゾ, 面汚し]  \n",
       "1188                                [どこ, 通信, 会社, エンジニア]  \n",
       "\n",
       "[1141 rows x 8 columns]"
      ]
     },
     "execution_count": 11,
     "metadata": {},
     "output_type": "execute_result"
    }
   ],
   "source": [
    "df2"
   ]
  },
  {
   "cell_type": "code",
   "execution_count": 12,
   "id": "fb15acc6",
   "metadata": {},
   "outputs": [],
   "source": [
    "import gensim"
   ]
  },
  {
   "cell_type": "code",
   "execution_count": 13,
   "id": "015f8028",
   "metadata": {},
   "outputs": [],
   "source": [
    "from gensim import corpora"
   ]
  },
  {
   "cell_type": "code",
   "execution_count": 14,
   "id": "e1a4b741",
   "metadata": {},
   "outputs": [],
   "source": [
    "dictionary = corpora.Dictionary([])\n",
    "\n",
    "for text in df2[\"text\"] :\n",
    "    new_dictionary = corpora.Dictionary([text])\n",
    "    dictionary.merge_with(new_dictionary)\n",
    "\n",
    "dictionary.save(\"DICT_FILE\")"
   ]
  },
  {
   "cell_type": "code",
   "execution_count": 15,
   "id": "70464274",
   "metadata": {},
   "outputs": [
    {
     "data": {
      "text/plain": [
       "<gensim.corpora.dictionary.Dictionary at 0x1589eb3a0>"
      ]
     },
     "execution_count": 15,
     "metadata": {},
     "output_type": "execute_result"
    }
   ],
   "source": [
    "dictionary"
   ]
  },
  {
   "cell_type": "code",
   "execution_count": 16,
   "id": "890186bd",
   "metadata": {},
   "outputs": [],
   "source": [
    "corpus = []\n",
    "\n",
    "for row in df2[\"text\"]:\n",
    "    #merge corpus\n",
    "    corpus.extend([dictionary.doc2bow(text)])\n",
    "\n",
    "corpora.MmCorpus.serialize(\"CORPUS_FILE\", corpus)"
   ]
  },
  {
   "cell_type": "code",
   "execution_count": 17,
   "id": "2be3e055",
   "metadata": {},
   "outputs": [
    {
     "ename": "NameError",
     "evalue": "name 'num_topics' is not defined",
     "output_type": "error",
     "traceback": [
      "\u001b[0;31m---------------------------------------------------------------------------\u001b[0m",
      "\u001b[0;31mNameError\u001b[0m                                 Traceback (most recent call last)",
      "Cell \u001b[0;32mIn [17], line 3\u001b[0m\n\u001b[1;32m      1\u001b[0m lda \u001b[38;5;241m=\u001b[39m gensim\u001b[38;5;241m.\u001b[39mmodels\u001b[38;5;241m.\u001b[39mldamodel\u001b[38;5;241m.\u001b[39mLdaModel(\n\u001b[1;32m      2\u001b[0m     corpus\u001b[38;5;241m=\u001b[39mcorpus,\n\u001b[0;32m----> 3\u001b[0m     num_topics\u001b[38;5;241m=\u001b[39mnum_topics,\n\u001b[1;32m      4\u001b[0m     id2word\u001b[38;5;241m=\u001b[39mdictionary\n\u001b[1;32m      5\u001b[0m )\n\u001b[1;32m      6\u001b[0m lda\u001b[38;5;241m.\u001b[39msave(\u001b[38;5;124m\"\u001b[39m\u001b[38;5;124mLDA_MODEL_FILE\u001b[39m\u001b[38;5;124m\"\u001b[39m)\n",
      "\u001b[0;31mNameError\u001b[0m: name 'num_topics' is not defined"
     ]
    }
   ],
   "source": [
    "lda = gensim.models.ldamodel.LdaModel(\n",
    "    corpus=corpus,\n",
    "    num_topics=num_topics,\n",
    "    id2word=dictionary\n",
    ")\n",
    "lda.save(\"LDA_MODEL_FILE\")"
   ]
  },
  {
   "cell_type": "code",
   "execution_count": 18,
   "id": "b628f5dd",
   "metadata": {},
   "outputs": [],
   "source": [
    "from gensim import corpora\n",
    "\n",
    "text_list=list(df2[\"text\"])\n",
    "dictionary =corpora.Dictionary(text_list)"
   ]
  },
  {
   "cell_type": "code",
   "execution_count": 19,
   "id": "d62b501d",
   "metadata": {},
   "outputs": [],
   "source": [
    "#1回だけの単語の削除, 多くの回数で出現する単語の除去(20%i以上)\n",
    "dictionary.filter_extremes(no_below=3,no_above=0.05)\n",
    "dictionary.save_as_text('最終辞書.txt')\n",
    "dictionary = corpora.Dictionary.load_from_text('最終辞書.txt')"
   ]
  },
  {
   "cell_type": "code",
   "execution_count": 20,
   "id": "e90941bd",
   "metadata": {},
   "outputs": [
    {
     "data": {
      "text/plain": [
       "<gensim.corpora.dictionary.Dictionary at 0x1586330d0>"
      ]
     },
     "execution_count": 20,
     "metadata": {},
     "output_type": "execute_result"
    }
   ],
   "source": [
    "dictionary"
   ]
  },
  {
   "cell_type": "code",
   "execution_count": 21,
   "id": "8cc3081f",
   "metadata": {},
   "outputs": [],
   "source": [
    "corpus=[dictionary.doc2bow(tokens) for tokens in text_list]"
   ]
  },
  {
   "cell_type": "code",
   "execution_count": 22,
   "id": "adaab784",
   "metadata": {},
   "outputs": [],
   "source": [
    "from gensim import models\n",
    "\n",
    "#トピック数の設定\n",
    "zk=5\n",
    "#モデルの学習\n",
    "model = gensim.models.LdaModel(corpus,\n",
    "                               num_topics=zk,\n",
    "                               id2word=dictionary,\n",
    "                               random_state=111\n",
    "                              )\n",
    "model.save('lda_bz.model')  "
   ]
  },
  {
   "cell_type": "code",
   "execution_count": 23,
   "id": "373321ae",
   "metadata": {},
   "outputs": [
    {
     "data": {
      "image/png": "[encoded data removed]",
      "text/plain": [
       "<Figure size 3000x2000 with 1 Axes>"
      ]
     },
     "metadata": {},
     "output_type": "display_data"
    }
   ],
   "source": [
    "import numpy as np\n",
    "import matplotlib.pyplot as plt\n",
    "import seaborn as sns\n",
    "#各曲の各トピックへの所属確率の算出。(曲数×トピック数)のnumpy\n",
    "Prob_songs=np.array(model.get_document_topics(corpus,minimum_probability=0))[:,:,1]\n",
    "\n",
    "#DataFrameに収納\n",
    "L=[ z for z in range(1,zk+1)]\n",
    "col_name=list(map(lambda x: \"Prob_\"+str(x),L))\n",
    "df_prob=pd.DataFrame(Prob_songs)\n",
    "df_prob.columns=col_name\n",
    "\n",
    "#所属確率最大のトピック番号も算出\n",
    "df_prob[\"Max\"]=df_prob.idxmax(axis=1)\n",
    "def del_Prob(x):\n",
    "    return int(x.split(\"_\")[1])\n",
    "df_prob[\"Max\"]=df_prob[\"Max\"].apply(lambda x : del_Prob(x))\n",
    "\n",
    "#各トピックの出現確率の算出。曲のトピックへの所属確率を全曲で足して、全トピックで1になるように正規化\n",
    "df_topic=pd.DataFrame(df_prob.drop(\"Max\",axis=1).sum()/df_prob.drop(\"Max\",axis=1).sum().sum())\n",
    "df_topic.columns=[\"Prob\"]\n",
    "df_topic[\"Topic\"]=[ z for z in range(1,zk+1)]\n",
    "\n",
    "#可視化\n",
    "plt.figure(figsize = (30,20))\n",
    "ax= sns.barplot(x=\"Topic\",y=\"Prob\",data=df_topic,color=\"darkblue\")\n",
    "ax.set_xlabel(\"Topic\",fontsize=50)\n",
    "ax.set_ylabel(\"Prob\",fontsize=50)\n",
    "ax.tick_params(axis='x', labelsize=40)\n",
    "ax.tick_params(axis='y', labelsize=40)\n",
    "plt.show()"
   ]
  },
  {
   "cell_type": "code",
   "execution_count": 24,
   "id": "7a7f389c",
   "metadata": {},
   "outputs": [],
   "source": [
    "topic_word_prob=[]\n",
    "\n",
    "for z in range(zk):\n",
    "    word=[]\n",
    "    prob=[]\n",
    "    topic = model.show_topic(z,1000) #適当な単語数分\n",
    "\n",
    "    for t in topic:\n",
    "        word.append(t[0])\n",
    "        prob.append(t[1])\n",
    "        \n",
    "    df_lda=pd.DataFrame({\"word\":word,\"prob\":prob})\n",
    "    topic_word_prob.append(df_lda)"
   ]
  },
  {
   "cell_type": "code",
   "execution_count": 25,
   "id": "4434c7c9",
   "metadata": {},
   "outputs": [
    {
     "data": {
      "text/plain": [
       "list"
      ]
     },
     "execution_count": 25,
     "metadata": {},
     "output_type": "execute_result"
    }
   ],
   "source": [
    "type(topic_word_prob)"
   ]
  },
  {
   "cell_type": "code",
   "execution_count": 26,
   "id": "af17e590",
   "metadata": {},
   "outputs": [
    {
     "data": {
      "text/plain": [
       "[      word      prob\n",
       " 0      データ  0.008485\n",
       " 1       技術  0.007290\n",
       " 2       機械  0.006683\n",
       " 3        &  0.006080\n",
       " 4        B  0.005868\n",
       " ..     ...       ...\n",
       " 995     51  0.000202\n",
       " 996     経歴  0.000199\n",
       " 997  Azure  0.000198\n",
       " 998    CLF  0.000198\n",
       " 999  インターン  0.000197\n",
       " \n",
       " [1000 rows x 2 columns],\n",
       "        word      prob\n",
       " 0       AWS  0.007943\n",
       " 1         8  0.007198\n",
       " 2       ブログ  0.007164\n",
       " 3        企業  0.005982\n",
       " 4        音楽  0.005953\n",
       " ..      ...       ...\n",
       " 995     OMC  0.000203\n",
       " 996       黄  0.000202\n",
       " 997    ユーザー  0.000199\n",
       " 998      幾何  0.000198\n",
       " 999  kaggle  0.000197\n",
       " \n",
       " [1000 rows x 2 columns],\n",
       "       word      prob\n",
       " 0       英語  0.010127\n",
       " 1       統計  0.009376\n",
       " 2        級  0.009029\n",
       " 3       技術  0.007731\n",
       " 4    アカウント  0.007702\n",
       " ..     ...       ...\n",
       " 995     優勝  0.000198\n",
       " 996   東京大学  0.000197\n",
       " 997      社  0.000191\n",
       " 998     一番  0.000189\n",
       " 999    リンク  0.000189\n",
       " \n",
       " [1000 rows x 2 columns],\n",
       "      word      prob\n",
       " 0     ゲーム  0.013483\n",
       " 1     AWS  0.008112\n",
       " 2       8  0.007683\n",
       " 3       目  0.007342\n",
       " 4    インフラ  0.006928\n",
       " ..    ...       ...\n",
       " 995    創造  0.000165\n",
       " 996    理論  0.000163\n",
       " 997    関心  0.000163\n",
       " 998    全国  0.000162\n",
       " 999     ☺  0.000160\n",
       " \n",
       " [1000 rows x 2 columns],\n",
       "      word      prob\n",
       " 0       |  0.040726\n",
       " 1       方  0.009475\n",
       " 2       競  0.007111\n",
       " 3       月  0.006469\n",
       " 4      営業  0.005762\n",
       " ..    ...       ...\n",
       " 995    在籍  0.000281\n",
       " 996   リーグ  0.000280\n",
       " 997   申し訳  0.000280\n",
       " 998    EM  0.000280\n",
       " 999  サーバー  0.000279\n",
       " \n",
       " [1000 rows x 2 columns]]"
      ]
     },
     "execution_count": 26,
     "metadata": {},
     "output_type": "execute_result"
    }
   ],
   "source": [
    "topic_word_prob"
   ]
  },
  {
   "cell_type": "code",
   "execution_count": 27,
   "id": "8eaa99f5",
   "metadata": {},
   "outputs": [
    {
     "name": "stdout",
     "output_type": "stream",
     "text": [
      "グループ0\n",
      "  word      prob\n",
      "0  データ  0.008485\n",
      "1   技術  0.007290\n",
      "2   機械  0.006683\n",
      "3    &  0.006080\n",
      "4    B  0.005868\n",
      "------------------------------\n",
      "グループ1\n",
      "  word      prob\n",
      "0  AWS  0.007943\n",
      "1    8  0.007198\n",
      "2  ブログ  0.007164\n",
      "3   企業  0.005982\n",
      "4   音楽  0.005953\n",
      "------------------------------\n",
      "グループ2\n",
      "    word      prob\n",
      "0     英語  0.010127\n",
      "1     統計  0.009376\n",
      "2      級  0.009029\n",
      "3     技術  0.007731\n",
      "4  アカウント  0.007702\n",
      "------------------------------\n",
      "グループ3\n",
      "   word      prob\n",
      "0   ゲーム  0.013483\n",
      "1   AWS  0.008112\n",
      "2     8  0.007683\n",
      "3     目  0.007342\n",
      "4  インフラ  0.006928\n",
      "------------------------------\n",
      "グループ4\n",
      "  word      prob\n",
      "0    |  0.040726\n",
      "1    方  0.009475\n",
      "2    競  0.007111\n",
      "3    月  0.006469\n",
      "4   営業  0.005762\n",
      "------------------------------\n"
     ]
    }
   ],
   "source": [
    "for number, topic in enumerate (topic_word_prob):\n",
    "    print(\"グループ\" + str(number))\n",
    "    print(topic[:5])\n",
    "    print(\"-\"*30)\n",
    "# 各グループを表す単語の上位"
   ]
  },
  {
   "cell_type": "code",
   "execution_count": null,
   "id": "f8edd5a2",
   "metadata": {},
   "outputs": [],
   "source": []
  },
  {
   "cell_type": "code",
   "execution_count": null,
   "id": "c3ecf4c4",
   "metadata": {},
   "outputs": [],
   "source": []
  }
 ],
 "metadata": {
  "kernelspec": {
   "display_name": "Python 3 (ipykernel)",
   "language": "python",
   "name": "python3"
  },
  "language_info": {
   "codemirror_mode": {
    "name": "ipython",
    "version": 3
   },
   "file_extension": ".py",
   "mimetype": "text/x-python",
   "name": "python",
   "nbconvert_exporter": "python",
   "pygments_lexer": "ipython3",
   "version": "3.8.13"
  }
 },
 "nbformat": 4,
 "nbformat_minor": 5
}
